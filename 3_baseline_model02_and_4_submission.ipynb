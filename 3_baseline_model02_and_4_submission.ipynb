{
  "cells": [
    {
      "cell_type": "markdown",
      "metadata": {
        "id": "WO0AS-QRLfHV"
      },
      "source": [
        "# Model 2: High resolution prediction of flood maps"
      ]
    },
    {
      "cell_type": "markdown",
      "metadata": {
        "id": "sBYKlwsvLfHZ"
      },
      "source": [
        "The output of this model is used to measure global performance the performance of the pipeline.\n",
        "\n",
        "**The last section of this notebook create a submission file for the challenge**"
      ]
    },
    {
      "cell_type": "code",
      "execution_count": 8,
      "metadata": {
        "id": "F214vzwPLfHa"
      },
      "outputs": [],
      "source": [
        "import numpy as np\n",
        "import pandas as pd\n",
        "import xarray as xr\n",
        "import src.baseline_model02 as bm\n",
        "import shutil"
      ]
    },
    {
      "cell_type": "markdown",
      "metadata": {
        "id": "SYsdef66LfHc"
      },
      "source": [
        "# Training\n",
        "\n",
        "The next cell allows you to quickly test models by reducing the amount of data used.\n",
        "\n",
        "*nb_train_minicube*, *nb_test_minicube* and *nb_val_minicube*, are used to limit the number of \"mini data cube\" used in train/test/val sets and therefore reduce the computational cost of the training and hyper parameters exploration. With also only keep minicubes above the *min_score_model1* threshold.\n",
        "\n",
        "If you choose a high number of minicubes, the threshold should be low enough.\n"
      ]
    },
    {
      "cell_type": "code",
      "execution_count": 9,
      "metadata": {
        "id": "EfANUK15LfHe"
      },
      "outputs": [],
      "source": [
        "baseline_model_generator_test = bm.BaseLineModel(\n",
        "    \"localdata/smallbox/label/label_\",\n",
        "    train_start = \"2002-08-03\",  # date where to split train test\n",
        "    train_end = \"2003-03-17\",  # date where to split train test\n",
        "    dynamic_features_path = \"localdata/Model1_score_ERA5_Rez_v2.nc\",\n",
        "    static_features_root_path = \"localdata/smallbox/static/static_\",\n",
        "    dynamic_features_FR_path = \"localdata/Model1_Score_Full_Rez_v2.nc\",\n",
        "    inf_dynamic_features_FR_path = \"localdata/Model1_Score_Full_Rez_inf.nc\",\n",
        "    static_features_FR_path = \"localdata/static_Full_Rez.nc\",\n",
        "    labels_ERA5_path = \"localdata/final_label_Full_ERA5.nc\",\n",
        "    labels_FR_path = \"localdata/final_label_Full_Rez.nc\",\n",
        "    nb_train_minicube = 200, #Those values are very small for good performance you will need more datacubes\n",
        "    nb_test_minicube = 50,  #Those values are very small for apropriate test you will need more datacubes\n",
        "    nb_val_minicube = 50,\n",
        "    min_score_model1 = 0.2,\n",
        "    name=\"Baseline_Model_2_Small_20_02\",\n",
        "    seed=1\n",
        "    )"
      ]
    },
    {
      "cell_type": "markdown",
      "metadata": {
        "id": "pAvS0A2uLfHf"
      },
      "source": [
        "### Preparation of the train / test / val dataset\n",
        "\n",
        "When using a high number of minicubes or low threshold, this process can still be quite long. The vectorised train / test / val can be saved to gain time when training several models on the same data."
      ]
    },
    {
      "cell_type": "code",
      "execution_count": 10,
      "metadata": {
        "colab": {
          "base_uri": "https://localhost:8080/"
        },
        "id": "HGkFfQjDLfHg",
        "outputId": "0ee0705e-cba0-48a4-d62f-821c7e0db0fa"
      },
      "outputs": [
        {
          "name": "stdout",
          "output_type": "stream",
          "text": [
            "# TP train : 826\n",
            "# FP train : 1118\n",
            "# TP test : 818\n",
            "# FP test : 1052\n",
            "# TP val : 406\n",
            "# FP val : 1464\n"
          ]
        }
      ],
      "source": [
        "baseline_model_generator_test.prepare_data()"
      ]
    },
    {
      "cell_type": "markdown",
      "metadata": {
        "id": "uv80jgC5LfHg"
      },
      "source": [
        "### Training\n",
        "\n",
        "Training a Logistic Regression model with Max_iter= 100"
      ]
    },
    {
      "cell_type": "code",
      "execution_count": 11,
      "metadata": {
        "colab": {
          "base_uri": "https://localhost:8080/"
        },
        "id": "SCgmLalMRWYz",
        "outputId": "9c75cc48-265b-4d77-83ef-12111d4c185f"
      },
      "outputs": [
        {
          "data": {
            "text/plain": [
              "0.9966272391120762"
            ]
          },
          "execution_count": 11,
          "metadata": {},
          "output_type": "execute_result"
        }
      ],
      "source": [
        "baseline_model_generator_test.train_model([False, #True, #soilgrid_bdod\n",
        "                                          False, #soilgrid_cfvo\n",
        "                                          False, #True, #soilgrid_silt\n",
        "                                          True, #soilgrid_clay\n",
        "                                          False, #True, #soilgrid_sand\n",
        "                                          False, #True, #depth_to_bedrock\n",
        "                                          True, #altitude\n",
        "                                          False, #True, #aspect\n",
        "                                          True, #slope\n",
        "                                          True, #True, #water_density\n",
        "                                          False, #watershed\n",
        "                                          False, #True, #topological_catchment_areas\n",
        "                                          False, #dist_sea\n",
        "                                          True, #dist_riv\n",
        "                                          True, #M1_score\n",
        "                                          160,\n",
        "                                          4],\n",
        "                                          compute_xval = False) # Set to true to get the X-Val score (AUC-ROC by default)"
      ]
    },
    {
      "cell_type": "markdown",
      "metadata": {
        "id": "_rGzycQiLfHk"
      },
      "source": [
        "### Geographical results"
      ]
    },
    {
      "cell_type": "markdown",
      "metadata": {
        "id": "ZlyUz6hJLfHk"
      },
      "source": [
        "##### Prediction score Map"
      ]
    },
    {
      "cell_type": "markdown",
      "metadata": {
        "id": "CNT5lYEfLfHl"
      },
      "source": [
        "##### False Positive, True Positive, False Negative Mapping"
      ]
    },
    {
      "cell_type": "code",
      "execution_count": 12,
      "metadata": {
        "id": "-YzM0zn4LfHl"
      },
      "outputs": [],
      "source": [
        "baseline_model_generator_test.load_FullRez()"
      ]
    },
    {
      "cell_type": "code",
      "execution_count": null,
      "metadata": {},
      "outputs": [],
      "source": [
        "# baseline_model_generator_test.print_TNTPFN(save_path=\"graph/model2/TNTPFN/\", thresholdM1=0.5, thresholdM2=0.5)"
      ]
    },
    {
      "cell_type": "code",
      "execution_count": null,
      "metadata": {},
      "outputs": [],
      "source": [
        "# baseline_model_generator_test.print_proba(save_path=\"graph/model2/Proba/\", thresholdM1=0.5, thresholdM2=0.5)"
      ]
    },
    {
      "cell_type": "code",
      "execution_count": null,
      "metadata": {},
      "outputs": [],
      "source": [
        "# baseline_model_generator_test.print_proba(save_path=\"graph/model2/ProbaReduced/\", \n",
        "#                                           thresholdM1=0.5, \n",
        "#                                           thresholdM2=0.5,\n",
        "#                                           min_x=3500,\n",
        "#                                           min_y=2500)"
      ]
    },
    {
      "cell_type": "markdown",
      "metadata": {
        "id": "jaofwGVPLfHn"
      },
      "source": [
        "### Performance analysis"
      ]
    },
    {
      "cell_type": "markdown",
      "metadata": {
        "id": "wRSGpSWVLfHn"
      },
      "source": [
        "### Pre-processing of the full test data\n",
        "\n",
        "Loading of the Full Test Dataset from disk.\n",
        "The vectorised Full train test (all France data on the define time slices for test train might be quite long to process).\n",
        "Furthermore the *Full test set*, by nature, is fixed, so we process the vectorised *Full Test Set* independently.\n",
        "When you have done this process one time you don't need to do it again as long as you don't change your first model outputs."
      ]
    },
    {
      "cell_type": "code",
      "execution_count": 13,
      "metadata": {
        "colab": {
          "base_uri": "https://localhost:8080/"
        },
        "id": "3eDlWBtnG0UQ",
        "outputId": "de7caa9e-878a-4cac-97ae-1b2517d44374"
      },
      "outputs": [
        {
          "name": "stdout",
          "output_type": "stream",
          "text": [
            "# TP test : 0\n",
            "# FP test : 1944\n"
          ]
        }
      ],
      "source": [
        "baseline_model_generator_test.prepare_data(compute_full_test_set=True ) #This will take a while, only do it one time"
      ]
    },
    {
      "cell_type": "markdown",
      "metadata": {
        "id": "cXWD4i7JLfHo"
      },
      "source": [
        "#### ROC plots"
      ]
    },
    {
      "cell_type": "code",
      "execution_count": 20,
      "metadata": {
        "colab": {
          "base_uri": "https://localhost:8080/",
          "height": 581
        },
        "id": "U_FcSoLULfHo",
        "outputId": "4e1bb1dd-1372-4ebf-b540-a85819ad3d49"
      },
      "outputs": [
        {
          "name": "stdout",
          "output_type": "stream",
          "text": [
            "Full_Test\n"
          ]
        },
        {
          "data": {
            "image/png": "[encoded data removed]",
            "text/plain": [
              "<Figure size 800x600 with 1 Axes>"
            ]
          },
          "metadata": {},
          "output_type": "display_data"
        }
      ],
      "source": [
        " # baseline_model_generator_test.auc_graph(\"Full_Test\", \"\", [0.01,0.05,0.1,0.15, 0.2,0.3, 0.5, 0.9])\n"
      ]
    },
    {
      "cell_type": "code",
      "execution_count": 15,
      "metadata": {
        "colab": {
          "base_uri": "https://localhost:8080/"
        },
        "id": "Sq_AkERIdqBA",
        "outputId": "1d23c16c-d073-48f8-95df-548a3e685757"
      },
      "outputs": [
        {
          "name": "stdout",
          "output_type": "stream",
          "text": [
            "roc\n",
            "roc : 0.9244088016199732\n",
            "AP\n",
            "AP : 0.07247936103365916\n",
            "BrierScore\n",
            "BrierScore : 0.0005570912823702928\n"
          ]
        }
      ],
      "source": [
        " # baseline_model_generator_test.process_AUC_metrics(filter=False)"
      ]
    },
    {
      "cell_type": "markdown",
      "metadata": {
        "id": "lJs7sU2QLfHp"
      },
      "source": [
        "# Computation of predictions for codabench\n",
        "\n",
        "#### Data loading"
      ]
    },
    {
      "cell_type": "code",
      "execution_count": 16,
      "metadata": {
        "id": "kuKYh_jodr1n"
      },
      "outputs": [],
      "source": [
        "baseline_model_generator_test.load_InfRez()"
      ]
    },
    {
      "cell_type": "markdown",
      "metadata": {
        "id": "-XWHXV-MLfHp"
      },
      "source": [
        "saving predictions"
      ]
    },
    {
      "cell_type": "code",
      "execution_count": 17,
      "metadata": {
        "colab": {
          "base_uri": "https://localhost:8080/"
        },
        "id": "C-BXbADGLfHq",
        "outputId": "5412ecdd-e209-4d08-a98e-1a7ca108fb57"
      },
      "outputs": [
        {
          "name": "stdout",
          "output_type": "stream",
          "text": [
            "(9, 3936, 5953)\n"
          ]
        }
      ],
      "source": [
        "baseline_model_generator_test.save_full_pred()"
      ]
    },
    {
      "cell_type": "markdown",
      "metadata": {
        "id": "F0hyzIRYWyI9"
      },
      "source": [
        "# Part 4 submission"
      ]
    },
    {
      "cell_type": "markdown",
      "metadata": {
        "id": "KlcSQ_JaWx-c"
      },
      "source": [
        "# Model 2: High resolution prediction of flood maps"
      ]
    },
    {
      "cell_type": "markdown",
      "metadata": {
        "id": "KMIZLhlgWsPY"
      },
      "source": [
        "Loading of the previously computed predictions"
      ]
    },
    {
      "cell_type": "code",
      "execution_count": 21,
      "metadata": {
        "id": "ZOvLrnEKWdSV"
      },
      "outputs": [],
      "source": [
        "predictions = xr.open_dataset(\"localdata/Model2_Score_Full_Rez_inf.nc\")"
      ]
    },
    {
      "cell_type": "code",
      "execution_count": 22,
      "metadata": {
        "id": "I3xONS2DWmz8"
      },
      "outputs": [],
      "source": [
        "relevent_data_tag_binary_mask = xr.open_dataset(\"localdata/raw/relevent_data_tag_binary_mask.nc\")\n",
        "\n",
        "nan_mask = relevent_data_tag_binary_mask[\"__xarray_dataarray_variable__\"] == 1\n",
        "data_array = predictions[\"M2_score\"]\n",
        "\n",
        "for time in predictions.time.values:\n",
        "    time_slice = data_array.sel(time=time)\n",
        "    time_slice = time_slice.where(~nan_mask, -1)\n",
        "    data_array.loc[dict(time=time)] = time_slice\n",
        "\n",
        "predictions[\"M2_score\"] = data_array\n",
        "predictions.to_netcdf(f'localdata/predictions_tmp.nc', engine='h5netcdf')\n"
      ]
    },
    {
      "cell_type": "code",
      "execution_count": 23,
      "metadata": {
        "colab": {
          "base_uri": "https://localhost:8080/"
        },
        "id": "jOkpzAlQWps0",
        "outputId": "3402cab0-6d03-4d23-e4fa-bac7096b935c"
      },
      "outputs": [
        {
          "data": {
            "text/plain": [
              "array([-1.00000000e+00,  1.10505535e-10,  1.74784257e-10, ...,\n",
              "        6.41048968e-01,  6.41102016e-01,  6.44476712e-01], dtype=float32)"
            ]
          },
          "execution_count": 23,
          "metadata": {},
          "output_type": "execute_result"
        }
      ],
      "source": [
        "np.unique(predictions[\"M2_score\"].values)"
      ]
    },
    {
      "cell_type": "code",
      "execution_count": 24,
      "metadata": {
        "id": "ZysOXrh-W5Yq"
      },
      "outputs": [],
      "source": [
        "def from_xarray_to_vector(data: xr.DataArray):\n",
        "    data = data.sortby(\"time\").sortby(\"x\").sortby(\"y\")\n",
        "\n",
        "    xry = data.M2_score.values\n",
        "    vectors = xry.reshape(xry.shape[0], xry.shape[1]*xry.shape[2])\n",
        "    vector = vectors.flatten()\n",
        "    mask = vector == -1\n",
        "    return vector[~mask]"
      ]
    },
    {
      "cell_type": "markdown",
      "metadata": {
        "id": "6wZhmY7jW9W_"
      },
      "source": [
        "**The submission file should be a flatten vector**\n",
        "\n",
        "Conversion to vector"
      ]
    },
    {
      "cell_type": "code",
      "execution_count": 25,
      "metadata": {
        "id": "zwMyWlQXW6_q"
      },
      "outputs": [],
      "source": [
        "out = from_xarray_to_vector(predictions)"
      ]
    },
    {
      "cell_type": "markdown",
      "metadata": {
        "id": "dZD-0HE_XCNh"
      },
      "source": [
        "Sanity check"
      ]
    },
    {
      "cell_type": "code",
      "execution_count": 26,
      "metadata": {
        "colab": {
          "base_uri": "https://localhost:8080/"
        },
        "id": "G6GlkRRKXAKQ",
        "outputId": "45f6378c-ccad-4d28-bbfa-e4641e50310b"
      },
      "outputs": [
        {
          "data": {
            "text/plain": [
              "112923207"
            ]
          },
          "execution_count": 26,
          "metadata": {},
          "output_type": "execute_result"
        }
      ],
      "source": [
        "len(out) # it should be 112923207"
      ]
    },
    {
      "cell_type": "code",
      "execution_count": null,
      "metadata": {
        "id": "SwXjOPZhXEBR"
      },
      "outputs": [],
      "source": [
        "# pd.DataFrame(out).to_csv(\"localdata/pred.csv\")\n",
        "# shutil.make_archive(\"localdata/pred.csv\", 'zip', \"localdata\",\"pred.csv\")"
      ]
    }
  ],
  "metadata": {
    "colab": {
      "machine_shape": "hm",
      "provenance": []
    },
    "kernelspec": {
      "display_name": "Python 3",
      "name": "python3"
    },
    "language_info": {
      "codemirror_mode": {
        "name": "ipython",
        "version": 3
      },
      "file_extension": ".py",
      "mimetype": "text/x-python",
      "name": "python",
      "nbconvert_exporter": "python",
      "pygments_lexer": "ipython3",
      "version": "3.12.1"
    }
  },
  "nbformat": 4,
  "nbformat_minor": 0
}
